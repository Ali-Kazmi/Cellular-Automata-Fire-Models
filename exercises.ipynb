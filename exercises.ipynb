{
 "cells": [
  {
   "cell_type": "markdown",
   "metadata": {},
   "source": [
    "## Complex Geometry - Voronoi\n",
    "\n",
    "Ali - replace the existing parameters block in the voronoi section with this block"
   ]
  },
  {
   "cell_type": "code",
   "execution_count": 1,
   "metadata": {},
   "outputs": [],
   "source": [
    "# Animation parameters!\n",
    "#\n",
    "# Some notes:\n",
    "# - voronoi_mapping is horribly inefficient, and has \n",
    "#   O(grid_resolution^2 * cell_count)\n",
    "#\n",
    "# - A good number for cell_count is typically 1 - 6 times grid_resolution\n",
    "#\n",
    "# - grid_resolution should be greater than 100 to properly see the waves, but I\n",
    "#   recommend using a value around 400 or more\n",
    "#\n",
    "# - because of the structure of the system, self-exciting loops can happen when \n",
    "#   the delay of one wave interferes with the propagation of the next! There's a \n",
    "#   list of parameters at the bottom of the next cell you can try if you're interested.\n",
    "#   Fun fact, a very similar mechanism is what causes heart attacks.\n",
    "\n",
    "\n",
    "\n",
    "grid_resolution = 400 # resolution of the grid across each axis\n",
    "cell_count = 800 # the number of voronoi cells\n",
    "delay = 5 # cooldown time of each cell\n",
    "beat_rate = 25 # how often a new wave is initiated\n",
    "seed_node = 0 # the starting cell"
   ]
  },
  {
   "cell_type": "markdown",
   "metadata": {},
   "source": [
    "### Excercise: Self-Exciting Loops\n",
    "As mentioned, self-exciting loops can occur pretty easily in a voronoi grid. In a binary system like this, the most common cause of these loops is when one wave interferes with the propagation of the next wave. Try out the following parameters to see a self-exciting loop in action! Notice that the delay from the first wave stops the second wave from fully igniting, causing it to form a loop. \n",
    "\n",
    "In a heart beat, this same effect can occur when a portion of tissue stops carrying a signal, causing the surrounding signal to wrap around the damaged tissue, changing the trajectory of the wave. This causes a special type of self-exciting loop called spiral waves. \n",
    "\n",
    "Try changing beat rate and delay to see which ratio of parameters most readily creates self-exciting loops!\n",
    "\n",
    "\n",
    "Self-exciting loop parameters:\n",
    "\n",
    "grid_resolution = 400\n",
    "\n",
    "cell_count = 800\n",
    "\n",
    "delay = 5\n",
    "\n",
    "beat_rate = 20\n",
    "\n",
    "seed_node = 0"
   ]
  },
  {
   "cell_type": "markdown",
   "metadata": {},
   "source": [
    "## Complex Geometry - Hexagons\n",
    "Change the parameters block to the following block, then add in the excercises"
   ]
  },
  {
   "cell_type": "code",
   "execution_count": null,
   "metadata": {},
   "outputs": [],
   "source": [
    "# these are the parameters for the animation!\n",
    "\n",
    "# a couple notes:\n",
    "# - grid_width must be odd, because of the way\n",
    "#   hexbin treats the center of each hexagon\n",
    "#\n",
    "# - if delay is less than 3, the waves will propagate backwards, \n",
    "#   creating some strange effects. Try it!\n",
    "#\n",
    "# - beat_rate = (grid_width + delay) will guarantee that \n",
    "#   each wave won't be interferred with. Changing it \n",
    "#   to small value (< 10) leads to some really interesting animations!\n",
    "#\n",
    "# - feel free to change the seed hexagon\n",
    "\n",
    "\n",
    "grid_width = 17 # number of hexagons in each axis\n",
    "delay = 3 # cooldown time of each hexagon\n",
    "beat_rate = (grid_width + delay) # how often a new wave is initiated\n",
    "seed = int(.5 * grid_width ** 2) # the starting hexagon    "
   ]
  },
  {
   "cell_type": "markdown",
   "metadata": {},
   "source": [
    "### Excercises \n",
    "1. Try decreasing delay to a value of 2 and to a value of 1. Just because its fun.\n",
    "2. Scroll up to gen_adj_dict. Try modifying the even_row boolean and see how the waves propagate differently! Note that changing the other booleans will result in an out of bounds error, but you can modify the logic to exclude "
   ]
  }
 ],
 "metadata": {
  "kernelspec": {
   "display_name": "Python 3",
   "language": "python",
   "name": "python3"
  },
  "language_info": {
   "codemirror_mode": {
    "name": "ipython",
    "version": 3
   },
   "file_extension": ".py",
   "mimetype": "text/x-python",
   "name": "python",
   "nbconvert_exporter": "python",
   "pygments_lexer": "ipython3",
   "version": "3.7.0"
  }
 },
 "nbformat": 4,
 "nbformat_minor": 2
}
