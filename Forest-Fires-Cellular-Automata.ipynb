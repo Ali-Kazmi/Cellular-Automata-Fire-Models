{
 "cells": [
  {
   "cell_type": "markdown",
   "metadata": {},
   "source": [
    "# Modeling Forest Fires Using Cellular Automata \n",
    "## Authors: Ali Kazmi, Kenji Bomar \n",
    "## CX 4230 Project 2 "
   ]
  },
  {
   "cell_type": "markdown",
   "metadata": {},
   "source": [
    "Using Cellular Automata to model a Forest Fire. (Sayama 206, 11.9). Estimate the critical percolation threshold for the same forest fire model but with von neumann neighborhood models. Confirm the results in simulations (sayama 12.9). What would happen if the space of the forest fire propagation were 1D or 3D? Construct renormalization group analysis to see what happens in those cases (Sayama 12.10).\n"
   ]
  },
  {
   "cell_type": "markdown",
   "metadata": {},
   "source": [
    "## Abstract  \n",
    "- put smt here about what cellular automata is and what they will learn. Also put a paragraph on the SUI: forest fires, their impact, etc. Talk about other ways to study the system, but give some reasons why CA are good. (~2 para long. See the example on recrystallization) "
   ]
  },
  {
   "cell_type": "markdown",
   "metadata": {},
   "source": [
    "## Outline: \n",
    "### 0: Introduction to Cellular Automata\n",
    "#### 0.1: Terminology \n",
    "#### 0.2: Code for a simple 1D CA: Sierpinski Triangle \n",
    "#### 0.3: Other cool 1D CA \n",
    "#### 0.4: Classic 2D Cellular Automata: Game of Life\n",
    "### 1: Applications to Forest fires\n",
    "- #### 1.1: A simple cellular automata model of forest fires \n",
    "- #### 1.2 Animation?\n",
    "- #### 1.3: Analysis of our simple cellular automata model\n",
    "- #### 1.4: Stochastic additions to our model (?)\n",
    "- #### 1.5: 3D CA model\n",
    "- #### 1.6: Renormalization Group Analysis \n",
    "### 2: Literature Review\n",
    "- #### 2.5: Citations\n",
    "\n",
    "### 3: a data driven Cellular Automata model of forest fires (?) "
   ]
  },
  {
   "cell_type": "markdown",
   "metadata": {},
   "source": [
    "## 0: 1D Cellular Automata \n",
    "### 0.1: terminology \n",
    "A Cellular Automata (CA from here on) is a model built of cells on a grid. For now, we'll keep this grid one dimensional, but it can theoretically go to any dimension. Each cell is either alive or dead. Each cell has a neighborhood \n",
    "\n",
    "### 0.2: Sierpinski Triangle\n",
    "\n",
    "\n",
    "\n"
   ]
  },
  {
   "cell_type": "code",
   "execution_count": 181,
   "metadata": {},
   "outputs": [
    {
     "name": "stderr",
     "output_type": "stream",
     "text": [
      "/Users/ali/opt/anaconda3/lib/python3.7/site-packages/ipykernel_launcher.py:58: MatplotlibDeprecationWarning: Adding an axes using the same arguments as a previous axes currently reuses the earlier instance.  In a future version, a new instance will always be created and returned.  Meanwhile, this warning can be suppressed, and the future behavior ensured, by passing a unique label to each axes instance.\n"
     ]
    },
    {
     "data": {
      "image/png": "[encoded data removed]",
      "text/plain": [
       "<Figure size 432x288 with 1 Axes>"
      ]
     },
     "metadata": {
      "needs_background": "light"
     },
     "output_type": "display_data"
    }
   ],
   "source": [
    "# in this we will be implementing a one dimensional cellular automata. It will appear to be the sierpienski triangle! \n",
    "# Note: We are laying one generation below the preceding one, so it will output a 2d grid. It is not two dimensional though!\n",
    "# The output simply shows the evolution of the system over time. \n",
    "# We use standard python libraries for our plotting and data structures.\n",
    "#If you are not familiar with python, try an introductory tutorial on that first\n",
    "import numpy as np\n",
    "import matplotlib.pyplot as plt\n",
    "import matplotlib.cm as cm\n",
    "\n",
    "#Here we define the rules of transition\n",
    "def transition(l,m,r):\n",
    "    if(l == 1 and m==1 and r ==1):\n",
    "        return 0\n",
    "    elif (l == 1 and m == 1 and r==0):\n",
    "        return 1\n",
    "    elif (l == 1 and m == 0 and r==1):\n",
    "        return 0\n",
    "    elif (l == 1 and m == 0 and r==0):\n",
    "        return 1\n",
    "    elif (l == 0 and m == 1 and r==1):\n",
    "        return 1\n",
    "    elif (l == 0 and m == 1 and r==0):\n",
    "        return 0\n",
    "    elif (l == 0 and m == 0 and r == 1):\n",
    "        return 1\n",
    "    elif (l == 0 and m == 0 and r==0):\n",
    "        return 0\n",
    "    \n",
    "#Here we apply the rules on the passed in array of cells. Be careful to use a temporary array because the transitions are based only \n",
    "#on current states. IE we do all transitions on the original passed in cell array for consistency. \n",
    "def rules(cellsrow,w):\n",
    "    temp = np.copy(cellsrow)\n",
    "    if(cellsrow.item(cellsrow.size-2)==1):\n",
    "        return temp\n",
    "    for i in range(1, cellsrow.size - 1):\n",
    "        #First look in the neighborhood. Be careful of edges! For now, we will leave them constant by changing the loop boundaries \n",
    "        l=cellsrow.item(i-1)\n",
    "        m=cellsrow.item(i)\n",
    "        r=cellsrow.item(i+1)\n",
    "        temp[i] = transition(l,m,r)\n",
    "    return temp\n",
    "\n",
    "#we use alive (white) as 1 and dead (black) as 0. \n",
    "#cells = np.array([[0,0,0,0,0,0,0,0, 1, 0,0,0,0,0,0,0,0]]) #This first row is our initial state of the CA. Play with it!  \n",
    "w=40\n",
    "z=np.zeros((w,), dtype=int)\n",
    "cells=np.array([z])\n",
    "cells.itemset(int(w/2),1)\n",
    "#print(cells)\n",
    "h=30 #height of our visualization. The number of generations, in other words \n",
    "for x in range (1, h):\n",
    "    newrow=rules(cells[x-1,:],w)\n",
    "    cells = np.append(cells,[newrow], axis=0)\n",
    "\n",
    "#now, do the plot. \n",
    "fig = plt.figure()\n",
    "plt.grid(color='w', linestyle='-', linewidth=1)\n",
    "ax = fig.add_subplot()\n",
    "ax.imshow(cells, interpolation='nearest', cmap=cm.Greys_r) #Try different color maps!. Later in the tutorial, we will use fire colors\n",
    "plt.show()"
   ]
  },
  {
   "cell_type": "markdown",
   "metadata": {},
   "source": [
    "## 1: Applications to Forest Fires\n",
    "### 1.1: A simple CA model for forest fires\n",
    "In a paper from 2006, some simple rules were devised to model forest fires. Here we will present those ideas and show them in action. https://bib.irb.hr/datoteka/278897.Ljiljana_Bodrozic_ceepus2006_2.pdf "
   ]
  },
  {
   "cell_type": "markdown",
   "metadata": {},
   "source": [
    "## 2: Literature Review\n",
    "Currently, many methods have been attempted to model forest fires. Many different models have been attempted, but here I wiil focus on cellular automata based studies. \n",
    "\n",
    "Traditional studies have focused on creating rule based Cellular Automata based on scientific principles. For instance, a study from 2006 focused on predicting the spread of the fires based on the transfer of fractional burned area, with factors of propagation from diagonal neighbor cells and a rate for the spread of fire<sup>1</sup>. A 2004 study<sup>2</sup> focused on using the same fire spread realtionships (developed by Rothermel in 1972) but on a hexagonal grid instead of a square one. One 2016 paper<sup>6</sup> outlines common rules and provides a Cellular Automata simulator for Forest Fires. \n",
    "\n",
    "A more recent paper<sup>3</sup> used a data driven approach to cellular automata. This model was actually tested using data collected from five fires in the United States, and achieved high levels of accuracy in simulating the spread of the fires. What was really unique about this study though was that instead of focusing on defining every aspect of the transition rules as usually done in a Cellular Automaton model it used a feedforward neural network known as the \"Extreme Learning Machine.\" The ELM performed well in predicting each cell's igniting probability. It also was able to account for the impact of vind velocity on the fire spreading pattern. The ELM was integrated with the CA model because a rule based transition system was still implemented, but each iteration the ELM created the transition rules. This could be an interesting avenue to attempt to use within our study.\n",
    "\n",
    "A 2017 paper<sup>4</sup> took similar data-driven cellular automata ideas (granted more advanced, as around a decade had passed) and parallelized it, providing GPU implementations of a fully parallel Fuzzy CA model. It was able to achieve parallel speedup, and used data from real fires to improve accuracy. \n",
    "\n",
    "Some studies don't focus on adding new details, but instead emphasize different factors of the CA model. For instance, one study<sup>5</sup> suggested that the optimal time step for the forest fire spread CA model is 1/8 of the time taken for the cellular material to be completely combusted. The same article also mentioned being reversible: it can identify fire source points! "
   ]
  },
  {
   "cell_type": "code",
   "execution_count": 139,
   "metadata": {},
   "outputs": [
    {
     "name": "stdout",
     "output_type": "stream",
     "text": [
      "[[ 1  2  3]\n",
      " [50 60 70]]\n"
     ]
    }
   ],
   "source": [
    "import numpy\n",
    "\n",
    "a = numpy.array([[1, 2, 3]])\n",
    "\n",
    "a = numpy.append(a, [[50, 60, 70]], axis = 0)\n",
    "\n",
    "print(a)"
   ]
  },
  {
   "cell_type": "markdown",
   "metadata": {},
   "source": [
    "## 2.5: Citations \n",
    "1) Encinas, A. Hernández, et al. “Simulation of Forest Fire Fronts Using Cellular Automata.” Advances in Engineering Software, vol. 38, no. 6, 2007, pp. 372–378., doi:10.1016/j.advengsoft.2006.09.002.\n",
    "\n",
    "2) Trunfio, Giuseppe A. “Predicting Wildfire Spreading Through a Hexagonal Cellular Automata Model.” Lecture Notes in Computer Science Cellular Automata, 2004, pp. 385–394., doi:10.1007/978-3-540-30479-1_40.\n",
    "\n",
    "3) Zheng, Zhong, et al. “Forest Fire Spread Simulating Model Using Cellular Automaton with Extreme Learning Machine.” Ecological Modelling, vol. 348, 2017, pp. 33–43., doi:10.1016/j.ecolmodel.2016.12.022.\n",
    "\n",
    "4) Ntinas, Vasileios G., et al. “Parallel Fuzzy Cellular Automata for Data-Driven Simulation of Wildfire Spreading.” Journal of Computational Science, vol. 21, 2017, pp. 469–485., doi:10.1016/j.jocs.2016.08.003.\n",
    "\n",
    "5) Rui, Xiaoping, et al. “Forest Fire Spread Simulation Algorithm Based on Cellular Automata.” Natural Hazards, vol. 91, no. 1, 2017, pp. 309–319., doi:10.1007/s11069-017-3127-5.\n",
    "\n",
    "6) Xuehua, Wang, et al. “A Cellular Automata Model for Forest Fire Spreading Simulation.” 2016 IEEE Symposium Series on Computational Intelligence (SSCI), 2016, doi:10.1109/ssci.2016.7849971.\n",
    "\n",
    "7) \n",
    "\n",
    "8) \n",
    "\n",
    "9) "
   ]
  },
  {
   "cell_type": "markdown",
   "metadata": {},
   "source": [
    "## Future Work \n",
    "As of the checkpoint, we have made progress. There is still a lot to get done though! Below is our division of labor. \n",
    "\n",
    "Ali: \n",
    "\n",
    "Kenji: \n"
   ]
  },
  {
   "cell_type": "code",
   "execution_count": null,
   "metadata": {},
   "outputs": [],
   "source": []
  }
 ],
 "metadata": {
  "kernelspec": {
   "display_name": "Python 3",
   "language": "python",
   "name": "python3"
  },
  "language_info": {
   "codemirror_mode": {
    "name": "ipython",
    "version": 3
   },
   "file_extension": ".py",
   "mimetype": "text/x-python",
   "name": "python",
   "nbconvert_exporter": "python",
   "pygments_lexer": "ipython3",
   "version": "3.7.6"
  }
 },
 "nbformat": 4,
 "nbformat_minor": 4
}
