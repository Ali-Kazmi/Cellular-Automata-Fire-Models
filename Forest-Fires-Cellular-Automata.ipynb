{
 "cells": [
  {
   "cell_type": "markdown",
   "metadata": {},
   "source": [
    "# Forest Fire Modeling Using Cellular Automata \n",
    "## Authors: Ali Kazmi, Kenji Bomar \n",
    "## CX 4230 Project 2 "
   ]
  },
  {
   "cell_type": "code",
   "execution_count": 6,
   "metadata": {},
   "outputs": [
    {
     "name": "stdout",
     "output_type": "stream",
     "text": [
      " Using Cellular Automata to model a Forest Fire. (Sayama 206, 11.9). Estimate the critical percolation threshold for the same forest fire model but with von neumann neighborhood models. Confirm the results in simulations (sayama 12.9). What would happen if the space of the forest fire propagation were 1D or 3D? Construct renormalization group analysis to see what happens in those cases (Sayama 12.10). \n"
     ]
    }
   ],
   "source": [
    "print(\"Using Cellular Automata to model a Forest Fire. (Sayama 206, 11.9). Estimate the critical percolation threshold for the same forest fire model but with von neumann neighborhood models. Confirm the results in simulations (sayama 12.9). What would happen if the space of the forest fire propagation were 1D or 3D? Construct renormalization group analysis to see what happens in those cases (Sayama 12.10). \")\n"
   ]
  },
  {
   "cell_type": "code",
   "execution_count": null,
   "metadata": {},
   "outputs": [],
   "source": []
  }
 ],
 "metadata": {
  "kernelspec": {
   "display_name": "Python 3",
   "language": "python",
   "name": "python3"
  },
  "language_info": {
   "codemirror_mode": {
    "name": "ipython",
    "version": 3
   },
   "file_extension": ".py",
   "mimetype": "text/x-python",
   "name": "python",
   "nbconvert_exporter": "python",
   "pygments_lexer": "ipython3",
   "version": "3.7.6"
  }
 },
 "nbformat": 4,
 "nbformat_minor": 4
}
